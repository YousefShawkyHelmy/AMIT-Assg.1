{
 "cells": [
  {
   "cell_type": "markdown",
   "id": "1b7e756f-cdf2-4102-ae1e-fe8b43849c66",
   "metadata": {
    "tags": []
   },
   "source": [
    "# I need a Game for Car \n",
    "\n",
    "when i input start print \"I'm ready to go \"\n",
    "\n",
    "when i input stop print \"Car stop\"\n",
    "\n",
    "when i input Quit stop the game \n",
    "\n",
    "and add help to help him in this choise if he didn't know --> like a massage to till him"
   ]
  },
  {
   "cell_type": "code",
   "execution_count": null,
   "id": "53465ac4-a965-4a8c-aba4-ec1f98c271ca",
   "metadata": {
    "tags": []
   },
   "outputs": [],
   "source": [
    "while True:\n",
    "    order = input(\"> \").upper()\n",
    "    if order == \"HELP\" :\n",
    "        print(\"Start - to start the car\\nStop - to stop the car\\nQuit - to Exit\")\n",
    "    elif order == \"START\" :\n",
    "        print(\"I'm ready to go\")\n",
    "    elif order == \"STOP\" :\n",
    "        print(\"Car stop\")\n",
    "    elif order == \"QUIT\" :\n",
    "        break    "
   ]
  },
  {
   "cell_type": "code",
   "execution_count": null,
   "id": "9b7f388f-f528-408a-b201-702f85824e76",
   "metadata": {},
   "outputs": [],
   "source": [
    " "
   ]
  },
  {
   "cell_type": "code",
   "execution_count": null,
   "id": "7351790d-e194-42a3-b2c6-acd84a3da816",
   "metadata": {},
   "outputs": [],
   "source": []
  },
  {
   "cell_type": "markdown",
   "id": "66397f40-91a5-4c2b-a612-094a6732e697",
   "metadata": {},
   "source": [
    "# I need math game \n",
    "\n",
    "when i choise any number give my the maltiplcation table of it like \n",
    "\n",
    "1*1=1\n",
    "\n",
    "1*2=2\n",
    "\n",
    "1*3=3\n",
    "\n",
    "so on ..."
   ]
  },
  {
   "cell_type": "code",
   "execution_count": null,
   "id": "a51e81f5-66bb-4bae-a5d7-e240c8ac710c",
   "metadata": {},
   "outputs": [],
   "source": [
    "# To help you i need a class"
   ]
  },
  {
   "cell_type": "code",
   "execution_count": null,
   "id": "b803ef72-0b6e-4ae2-b66f-48b8ceb11cc9",
   "metadata": {},
   "outputs": [],
   "source": [
    "class mathgame :\n",
    "    def __init__(self,n):\n",
    "        self.n = n\n",
    "    def loop(self):\n",
    "        i = 1\n",
    "        while i <= 10 :\n",
    "            print(\"{}*{} = {}\".format(self.n , i , i*self.n ))\n",
    "            i +=1"
   ]
  },
  {
   "cell_type": "code",
   "execution_count": null,
   "id": "5c22e2f2-32d9-4ef3-8d47-d3e7339affc9",
   "metadata": {},
   "outputs": [],
   "source": [
    "num=int(input(\"Enter number:\"))\n",
    "x = mathgame(num)\n",
    "x.loop()"
   ]
  },
  {
   "cell_type": "code",
   "execution_count": null,
   "id": "9f7298fe-b932-43af-9bea-b5855ea07fbd",
   "metadata": {},
   "outputs": [],
   "source": []
  }
 ],
 "metadata": {
  "kernelspec": {
   "display_name": "Python 3 (ipykernel)",
   "language": "python",
   "name": "python3"
  },
  "language_info": {
   "codemirror_mode": {
    "name": "ipython",
    "version": 3
   },
   "file_extension": ".py",
   "mimetype": "text/x-python",
   "name": "python",
   "nbconvert_exporter": "python",
   "pygments_lexer": "ipython3",
   "version": "3.9.13"
  }
 },
 "nbformat": 4,
 "nbformat_minor": 5
}
