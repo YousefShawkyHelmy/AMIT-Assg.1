{
 "cells": [
  {
   "cell_type": "markdown",
   "id": "638b31a0-bdb2-4215-81b0-41fc5a87a34b",
   "metadata": {
    "tags": []
   },
   "source": [
    "### Transform the code you made for calculating the area of a circle into \n",
    "function that:\n",
    "\n",
    "○ Takes the radius as inputs\n",
    "\n",
    "○ Gives the area as an output\n"
   ]
  },
  {
   "cell_type": "code",
   "execution_count": null,
   "id": "a546223c-714e-441f-b6e0-7865c66f3c1b",
   "metadata": {},
   "outputs": [],
   "source": [
    "def radius(r):\n",
    "    return 22/7 * r**2"
   ]
  },
  {
   "cell_type": "code",
   "execution_count": null,
   "id": "1a05c326-b7ee-44d8-9054-e5aee8efc439",
   "metadata": {},
   "outputs": [],
   "source": [
    "r= float(input(print(\"input num:\")))\n",
    "print(\"Radius = \", radius(r))"
   ]
  },
  {
   "cell_type": "markdown",
   "id": "3e81cce6-690c-422d-8c26-9029d4bdd3c7",
   "metadata": {},
   "source": [
    "### write a function to calculate the factorial of \n",
    "\n",
    "a given number and returns the result:"
   ]
  },
  {
   "cell_type": "markdown",
   "id": "40af4086-f755-4537-abf2-b7a21171babb",
   "metadata": {},
   "source": [
    "○ 1! = 1\n",
    "\n",
    "○ 3! = 3*2*1\n",
    "\n",
    "○ 5! = 5*4*3*2*1\n"
   ]
  },
  {
   "cell_type": "code",
   "execution_count": null,
   "id": "b4a62943-7f98-49fb-83ec-c898ea3df1a7",
   "metadata": {},
   "outputs": [],
   "source": [
    "def fact(n):\n",
    "    if n==0:\n",
    "        return 1\n",
    "    else :\n",
    "        return n * fact(n-1)"
   ]
  },
  {
   "cell_type": "code",
   "execution_count": null,
   "id": "3b3af41d-598b-44e3-8dca-ec6cd5c5cf0f",
   "metadata": {},
   "outputs": [],
   "source": [
    "n=int(input(\"Enter no:\" ))\n",
    "y=fact(n)\n",
    "print(\"{}! is {}\".format(n,y))"
   ]
  }
 ],
 "metadata": {
  "kernelspec": {
   "display_name": "Python 3 (ipykernel)",
   "language": "python",
   "name": "python3"
  },
  "language_info": {
   "codemirror_mode": {
    "name": "ipython",
    "version": 3
   },
   "file_extension": ".py",
   "mimetype": "text/x-python",
   "name": "python",
   "nbconvert_exporter": "python",
   "pygments_lexer": "ipython3",
   "version": "3.9.13"
  }
 },
 "nbformat": 4,
 "nbformat_minor": 5
}
