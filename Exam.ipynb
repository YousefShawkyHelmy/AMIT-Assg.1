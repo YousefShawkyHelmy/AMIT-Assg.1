{
 "cells": [
  {
   "cell_type": "markdown",
   "id": "e63c2b2f-532d-472b-9305-349efdab1bbb",
   "metadata": {},
   "source": [
    "### Here are some test questions for simple linear regression, multiple linear regression, decision trees, and random forests:"
   ]
  },
  {
   "cell_type": "markdown",
   "id": "1cb2ef45-1db2-4254-83ae-a8b96adafc45",
   "metadata": {},
   "source": [
    " - Simple linear regression"
   ]
  },
  {
   "cell_type": "markdown",
   "id": "f1ff50ab-73bd-42df-b5d6-ab4ac7dfca6a",
   "metadata": {},
   "source": [
    "What is the mathematical formula for a simple linear regression model?"
   ]
  },
  {
   "cell_type": "markdown",
   "id": "c8357a1b-7046-4e94-8547-67a7971b6f5b",
   "metadata": {},
   "source": [
    "y = a + bx \n",
    "such that: \n",
    "    \"y\" is the dependent variable\n",
    "    \"x\" is the independent variable\n",
    "    \"a\" is the interception with the y-ax\n",
    "    \"b\" is the slope of the fitting line"
   ]
  },
  {
   "cell_type": "code",
   "execution_count": null,
   "id": "7439b458-bc55-4f7b-9ea8-f96a74005234",
   "metadata": {},
   "outputs": [],
   "source": []
  },
  {
   "cell_type": "markdown",
   "id": "2ac38673-da60-4e0d-ae1f-51c6c5ac6b55",
   "metadata": {},
   "source": [
    "How do you measure the fit of a simple linear regression model?"
   ]
  },
  {
   "cell_type": "markdown",
   "id": "5c29f6d9-b4d4-42d6-ba5d-bb6d98682abe",
   "metadata": {},
   "source": [
    "By plotting the points of the prediction and the test set together and spot the fit visually"
   ]
  },
  {
   "cell_type": "code",
   "execution_count": null,
   "id": "f3ee7a60-c969-4e6f-9a79-db540f4fb33d",
   "metadata": {},
   "outputs": [],
   "source": []
  },
  {
   "cell_type": "markdown",
   "id": "3bc92ea5-17f6-4c26-bdc2-faea1f063462",
   "metadata": {},
   "source": [
    "How do you determine the most appropriate model for a simple linear regression problem?"
   ]
  },
  {
   "cell_type": "code",
   "execution_count": null,
   "id": "986521bb-ece2-4185-b481-fc9276f5ee5f",
   "metadata": {},
   "outputs": [],
   "source": []
  },
  {
   "cell_type": "code",
   "execution_count": null,
   "id": "0cb79828-19dd-4dd2-a11a-5041a39f009d",
   "metadata": {},
   "outputs": [],
   "source": []
  },
  {
   "cell_type": "markdown",
   "id": "c793d401-d2f2-4bb3-91c5-5eba16604a1f",
   "metadata": {},
   "source": [
    "- Multiple linear regression"
   ]
  },
  {
   "cell_type": "markdown",
   "id": "c415a397-1d25-48c2-b045-2af798239b38",
   "metadata": {},
   "source": [
    "How does multiple linear regression differ from simple linear regression?"
   ]
  },
  {
   "cell_type": "markdown",
   "id": "e2a25ed3-396c-4a8c-a3bb-a339329eff94",
   "metadata": {},
   "source": [
    "Multiple linear regression deals with more than one independent variabble(x) and one depenent variable(y).\n",
    "while the Simple linear regression deals with only one X and one Y ."
   ]
  },
  {
   "cell_type": "code",
   "execution_count": null,
   "id": "95c38172-66b5-43ec-8a17-2353ca37d549",
   "metadata": {},
   "outputs": [],
   "source": []
  },
  {
   "cell_type": "markdown",
   "id": "fc10c93e-0ea4-49bd-9103-197749925b3c",
   "metadata": {},
   "source": [
    "How do you identify which variables are significant in a multiple linear regression model?"
   ]
  },
  {
   "cell_type": "code",
   "execution_count": null,
   "id": "1d2a3ec1-edf9-4cd8-ae01-2c5372da5c16",
   "metadata": {},
   "outputs": [],
   "source": [
    "Significant variabls are those which have the highest correlation with the target(y)."
   ]
  },
  {
   "cell_type": "code",
   "execution_count": null,
   "id": "54395dab-fef9-46b4-9df6-902652a47006",
   "metadata": {},
   "outputs": [],
   "source": []
  },
  {
   "cell_type": "markdown",
   "id": "b9ae6b6e-d411-444f-9bf2-f8cb6d4c97c5",
   "metadata": {},
   "source": [
    "How do you deal with multicollinearity in a multiple linear regression model?"
   ]
  },
  {
   "cell_type": "code",
   "execution_count": null,
   "id": "0b52dd62-4385-466c-b50a-1e99ecb95c1f",
   "metadata": {},
   "outputs": [],
   "source": [
    "Remove some of the highly correlated independent variables"
   ]
  },
  {
   "cell_type": "code",
   "execution_count": null,
   "id": "684a8cb1-43c0-45d2-bdbb-e3316a104ac3",
   "metadata": {},
   "outputs": [],
   "source": []
  },
  {
   "cell_type": "markdown",
   "id": "1c75a255-4625-43bf-9397-7ea76bebc777",
   "metadata": {},
   "source": [
    "- Decision trees"
   ]
  },
  {
   "cell_type": "markdown",
   "id": "5c3f338d-c83d-4fb7-b672-f1ed57805914",
   "metadata": {},
   "source": [
    "What is the process for creating a decision tree?"
   ]
  },
  {
   "cell_type": "code",
   "execution_count": null,
   "id": "c7612111-f9a7-4b7c-8759-25e4c1de332b",
   "metadata": {},
   "outputs": [],
   "source": [
    "1) Import dataset\n",
    "2) clean the data\n",
    "3) Devide the dataset into dependent/targets and independent/predictors value sets(X & y)  \n",
    "4) Create the model\n",
    "5) Fit the model"
   ]
  },
  {
   "cell_type": "code",
   "execution_count": null,
   "id": "8fec42b2-4580-4931-8276-16b28d5e37a0",
   "metadata": {},
   "outputs": [],
   "source": []
  },
  {
   "cell_type": "markdown",
   "id": "7c26901e-7bbb-4f89-8172-a91fca39d794",
   "metadata": {},
   "source": [
    "How do you decide which features to include in a decision tree?"
   ]
  },
  {
   "cell_type": "code",
   "execution_count": null,
   "id": "4f59b43e-2659-49eb-bd70-60647c7738b5",
   "metadata": {},
   "outputs": [],
   "source": [
    "Using the Standard Deviation Reduction."
   ]
  },
  {
   "cell_type": "code",
   "execution_count": null,
   "id": "20b9805d-34a0-4b4c-8956-e373c63f46bb",
   "metadata": {},
   "outputs": [],
   "source": []
  },
  {
   "cell_type": "markdown",
   "id": "1a7f6541-b1cf-464f-8c16-7253f736b2aa",
   "metadata": {},
   "source": [
    "How do you determine the optimal depth of a decision tree?"
   ]
  },
  {
   "cell_type": "markdown",
   "id": "9ade2fed-1423-4305-b3a1-3f57264e8d7b",
   "metadata": {},
   "source": [
    "By trying and finding out the best depth that gives the lowest error and the highest accuracy"
   ]
  },
  {
   "cell_type": "code",
   "execution_count": null,
   "id": "be43d4cc-40e5-4097-95e0-e0e3afdc9bc1",
   "metadata": {},
   "outputs": [],
   "source": []
  },
  {
   "cell_type": "markdown",
   "id": "e0a771a7-7388-47fe-b75f-43b719698aea",
   "metadata": {},
   "source": [
    "- Random forests"
   ]
  },
  {
   "cell_type": "markdown",
   "id": "33d280fc-3bd8-4d9d-94a8-62fa83cbd820",
   "metadata": {},
   "source": [
    "What is the difference between a decision tree and a random forest?"
   ]
  },
  {
   "cell_type": "markdown",
   "id": "a764820f-11c6-4aa4-becb-841b3b93b1ba",
   "metadata": {},
   "source": [
    "The Random forest is a decision tree based algorithm that uses multiple decision tree to predict the target, \n",
    "in order to over come the giggest disadvantage of the decision tree, which is the over-fitting."
   ]
  },
  {
   "cell_type": "code",
   "execution_count": null,
   "id": "203e73bb-37ca-4b0f-8eb3-9ed7b7c8a14d",
   "metadata": {},
   "outputs": [],
   "source": []
  },
  {
   "cell_type": "markdown",
   "id": "d85a2b52-dbe9-4f27-8ec0-5bbd28a18ac8",
   "metadata": {},
   "source": [
    "How do you decide the number of trees to include in a random forest?"
   ]
  },
  {
   "cell_type": "code",
   "execution_count": null,
   "id": "9834e479-d3ee-410e-b326-459627149614",
   "metadata": {},
   "outputs": [],
   "source": [
    "By assigning the value of the \"n_estimators\" in the algorithm syntax."
   ]
  },
  {
   "cell_type": "code",
   "execution_count": null,
   "id": "b367b531-eaab-43e6-9baa-4e8904d26eb1",
   "metadata": {},
   "outputs": [],
   "source": []
  },
  {
   "cell_type": "markdown",
   "id": "612c02ae-b582-43e5-9bbf-db6409c590d5",
   "metadata": {},
   "source": [
    "How do you measure the importance of different features in a random forest?"
   ]
  },
  {
   "cell_type": "code",
   "execution_count": null,
   "id": "c683f3c3-42ea-4586-b59b-d78e7beb7139",
   "metadata": {},
   "outputs": [],
   "source": []
  }
 ],
 "metadata": {
  "kernelspec": {
   "display_name": "Python 3 (ipykernel)",
   "language": "python",
   "name": "python3"
  },
  "language_info": {
   "codemirror_mode": {
    "name": "ipython",
    "version": 3
   },
   "file_extension": ".py",
   "mimetype": "text/x-python",
   "name": "python",
   "nbconvert_exporter": "python",
   "pygments_lexer": "ipython3",
   "version": "3.9.13"
  }
 },
 "nbformat": 4,
 "nbformat_minor": 5
}
