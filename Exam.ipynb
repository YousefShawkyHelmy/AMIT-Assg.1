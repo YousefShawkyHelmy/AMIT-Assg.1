{
 "cells": [
  {
   "cell_type": "markdown",
   "id": "e63c2b2f-532d-472b-9305-349efdab1bbb",
   "metadata": {},
   "source": [
    "### Here are some test questions for simple linear regression, multiple linear regression, decision trees, and random forests:"
   ]
  },
  {
   "cell_type": "markdown",
   "id": "1cb2ef45-1db2-4254-83ae-a8b96adafc45",
   "metadata": {},
   "source": [
    " - Simple linear regression"
   ]
  },
  {
   "cell_type": "code",
   "execution_count": null,
   "id": "347c152e-0384-43b2-80ad-32547f6a583d",
   "metadata": {},
   "outputs": [],
   "source": [
    "What is the mathematical formula for a simple linear regression model?"
   ]
  },
  {
   "cell_type": "markdown",
   "id": "3bc92ea5-17f6-4c26-bdc2-faea1f063462",
   "metadata": {},
   "source": [
    "\n",
    "\n",
    "How do you measure the fit of a simple linear regression model?\n",
    "\n",
    "How do you determine the most appropriate model for a simple linear regression problem?"
   ]
  },
  {
   "cell_type": "markdown",
   "id": "c793d401-d2f2-4bb3-91c5-5eba16604a1f",
   "metadata": {},
   "source": [
    "- Multiple linear regression"
   ]
  },
  {
   "cell_type": "markdown",
   "id": "b9ae6b6e-d411-444f-9bf2-f8cb6d4c97c5",
   "metadata": {},
   "source": [
    "How does multiple linear regression differ from simple linear regression?\n",
    "\n",
    "How do you identify which variables are significant in a multiple linear regression model?\n",
    "\n",
    "How do you deal with multicollinearity in a multiple linear regression model?"
   ]
  },
  {
   "cell_type": "markdown",
   "id": "1c75a255-4625-43bf-9397-7ea76bebc777",
   "metadata": {},
   "source": [
    "- Decision trees"
   ]
  },
  {
   "cell_type": "markdown",
   "id": "1a7f6541-b1cf-464f-8c16-7253f736b2aa",
   "metadata": {},
   "source": [
    "What is the process for creating a decision tree?\n",
    "\n",
    "How do you decide which features to include in a decision tree?\n",
    "\n",
    "How do you determine the optimal depth of a decision tree?"
   ]
  },
  {
   "cell_type": "markdown",
   "id": "e0a771a7-7388-47fe-b75f-43b719698aea",
   "metadata": {},
   "source": [
    "- Random forests"
   ]
  },
  {
   "cell_type": "markdown",
   "id": "612c02ae-b582-43e5-9bbf-db6409c590d5",
   "metadata": {},
   "source": [
    "What is the difference between a decision tree and a random forest?\n",
    "\n",
    "How do you decide the number of trees to include in a random forest?\n",
    "\n",
    "How do you measure the importance of different features in a random forest?"
   ]
  },
  {
   "cell_type": "code",
   "execution_count": null,
   "id": "c683f3c3-42ea-4586-b59b-d78e7beb7139",
   "metadata": {},
   "outputs": [],
   "source": []
  }
 ],
 "metadata": {
  "kernelspec": {
   "display_name": "Python 3 (ipykernel)",
   "language": "python",
   "name": "python3"
  },
  "language_info": {
   "codemirror_mode": {
    "name": "ipython",
    "version": 3
   },
   "file_extension": ".py",
   "mimetype": "text/x-python",
   "name": "python",
   "nbconvert_exporter": "python",
   "pygments_lexer": "ipython3",
   "version": "3.9.7"
  }
 },
 "nbformat": 4,
 "nbformat_minor": 5
}
