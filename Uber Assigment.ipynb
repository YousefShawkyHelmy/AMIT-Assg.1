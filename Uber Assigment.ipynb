{
 "cells": [
  {
   "cell_type": "code",
   "execution_count": 1,
   "id": "10b44773-950d-4848-8d79-1894b98623f1",
   "metadata": {},
   "outputs": [],
   "source": [
    "import numpy as np\n",
    "import pandas as pd\n",
    "import seaborn as sns\n",
    "import matplotlib.pyplot as plt"
   ]
  },
  {
   "cell_type": "code",
   "execution_count": null,
   "id": "3c29bdc7-af8d-43e2-92f6-3fe709ea85b6",
   "metadata": {},
   "outputs": [],
   "source": []
  },
  {
   "cell_type": "code",
   "execution_count": 2,
   "id": "62af5a21-3cc5-4c49-b491-d51ed10122b9",
   "metadata": {
    "tags": []
   },
   "outputs": [],
   "source": [
    "uber=pd.read_csv(\"D:/Uber Request Data.csv\")"
   ]
  },
  {
   "cell_type": "code",
   "execution_count": 4,
   "id": "9ca35c41-8952-48db-a10b-a165eb34fdae",
   "metadata": {},
   "outputs": [],
   "source": [
    "uber[\"Request timestamp\"] = pd.to_datetime(uber[\"Request timestamp\"], format= '%d/%m/%y %H:%M:%S:%f')"
   ]
  },
  {
   "cell_type": "code",
   "execution_count": 6,
   "id": "10aff293-67cf-4a26-86cd-c87618726691",
   "metadata": {},
   "outputs": [],
   "source": [
    "uber[\"Drop timestamp\"] = pd.to_datetime(uber[\"Drop timestamp\"], format= '%d/%m/%y %H:%M:%S:%f')"
   ]
  },
  {
   "cell_type": "code",
   "execution_count": null,
   "id": "9fb7d68e-9ed2-458a-9414-e34c6f2137ab",
   "metadata": {},
   "outputs": [],
   "source": []
  },
  {
   "cell_type": "code",
   "execution_count": 7,
   "id": "0f654ae8-4a7d-4699-89b6-ea662b8851cd",
   "metadata": {},
   "outputs": [
    {
     "data": {
      "text/html": [
       "<div>\n",
       "<style scoped>\n",
       "    .dataframe tbody tr th:only-of-type {\n",
       "        vertical-align: middle;\n",
       "    }\n",
       "\n",
       "    .dataframe tbody tr th {\n",
       "        vertical-align: top;\n",
       "    }\n",
       "\n",
       "    .dataframe thead th {\n",
       "        text-align: right;\n",
       "    }\n",
       "</style>\n",
       "<table border=\"1\" class=\"dataframe\">\n",
       "  <thead>\n",
       "    <tr style=\"text-align: right;\">\n",
       "      <th></th>\n",
       "      <th>Request id</th>\n",
       "      <th>Pickup point</th>\n",
       "      <th>Driver id</th>\n",
       "      <th>Status</th>\n",
       "      <th>Request timestamp</th>\n",
       "      <th>Drop timestamp</th>\n",
       "    </tr>\n",
       "  </thead>\n",
       "  <tbody>\n",
       "    <tr>\n",
       "      <th>0</th>\n",
       "      <td>619</td>\n",
       "      <td>Airport</td>\n",
       "      <td>1.0</td>\n",
       "      <td>Trip Completed</td>\n",
       "      <td>2016-11-07 11:51:00</td>\n",
       "      <td>2016-11-07 13:00:00</td>\n",
       "    </tr>\n",
       "    <tr>\n",
       "      <th>1</th>\n",
       "      <td>867</td>\n",
       "      <td>Airport</td>\n",
       "      <td>1.0</td>\n",
       "      <td>Trip Completed</td>\n",
       "      <td>2016-11-07 17:57:00</td>\n",
       "      <td>2016-11-07 18:47:00</td>\n",
       "    </tr>\n",
       "    <tr>\n",
       "      <th>2</th>\n",
       "      <td>1807</td>\n",
       "      <td>City</td>\n",
       "      <td>1.0</td>\n",
       "      <td>Trip Completed</td>\n",
       "      <td>2016-12-07 09:17:00</td>\n",
       "      <td>2016-12-07 09:58:00</td>\n",
       "    </tr>\n",
       "    <tr>\n",
       "      <th>3</th>\n",
       "      <td>2532</td>\n",
       "      <td>Airport</td>\n",
       "      <td>1.0</td>\n",
       "      <td>Trip Completed</td>\n",
       "      <td>2016-12-07 21:08:00</td>\n",
       "      <td>2016-12-07 22:03:00</td>\n",
       "    </tr>\n",
       "    <tr>\n",
       "      <th>4</th>\n",
       "      <td>3112</td>\n",
       "      <td>City</td>\n",
       "      <td>1.0</td>\n",
       "      <td>Trip Completed</td>\n",
       "      <td>2016-07-13 08:33:16</td>\n",
       "      <td>2016-07-13 09:25:47</td>\n",
       "    </tr>\n",
       "  </tbody>\n",
       "</table>\n",
       "</div>"
      ],
      "text/plain": [
       "   Request id Pickup point  Driver id          Status   Request timestamp  \\\n",
       "0         619      Airport        1.0  Trip Completed 2016-11-07 11:51:00   \n",
       "1         867      Airport        1.0  Trip Completed 2016-11-07 17:57:00   \n",
       "2        1807         City        1.0  Trip Completed 2016-12-07 09:17:00   \n",
       "3        2532      Airport        1.0  Trip Completed 2016-12-07 21:08:00   \n",
       "4        3112         City        1.0  Trip Completed 2016-07-13 08:33:16   \n",
       "\n",
       "       Drop timestamp  \n",
       "0 2016-11-07 13:00:00  \n",
       "1 2016-11-07 18:47:00  \n",
       "2 2016-12-07 09:58:00  \n",
       "3 2016-12-07 22:03:00  \n",
       "4 2016-07-13 09:25:47  "
      ]
     },
     "execution_count": 7,
     "metadata": {},
     "output_type": "execute_result"
    }
   ],
   "source": [
    "uber.head()"
   ]
  },
  {
   "cell_type": "code",
   "execution_count": null,
   "id": "ecb053fc-8be6-42f7-8779-3f3f2907ac02",
   "metadata": {},
   "outputs": [],
   "source": []
  },
  {
   "cell_type": "code",
   "execution_count": 8,
   "id": "31b9fc10-6886-41de-9840-9123c4db449f",
   "metadata": {},
   "outputs": [
    {
     "name": "stdout",
     "output_type": "stream",
     "text": [
      "<class 'pandas.core.frame.DataFrame'>\n",
      "RangeIndex: 6745 entries, 0 to 6744\n",
      "Data columns (total 6 columns):\n",
      " #   Column             Non-Null Count  Dtype         \n",
      "---  ------             --------------  -----         \n",
      " 0   Request id         6745 non-null   int64         \n",
      " 1   Pickup point       6745 non-null   object        \n",
      " 2   Driver id          4095 non-null   float64       \n",
      " 3   Status             6745 non-null   object        \n",
      " 4   Request timestamp  6745 non-null   datetime64[ns]\n",
      " 5   Drop timestamp     2831 non-null   datetime64[ns]\n",
      "dtypes: datetime64[ns](2), float64(1), int64(1), object(2)\n",
      "memory usage: 316.3+ KB\n"
     ]
    }
   ],
   "source": [
    "uber.info()"
   ]
  },
  {
   "cell_type": "code",
   "execution_count": null,
   "id": "2562c17b-cd0a-4377-90b5-276d831e95ac",
   "metadata": {},
   "outputs": [],
   "source": []
  },
  {
   "cell_type": "code",
   "execution_count": 10,
   "id": "a45539c3-fdbf-492a-ab68-65088c1a29ce",
   "metadata": {},
   "outputs": [],
   "source": [
    "uber[\"Request timestamp\"] = uber[\"Request timestamp\"].dt.day_name()"
   ]
  },
  {
   "cell_type": "code",
   "execution_count": 11,
   "id": "c2d98335-d7aa-4780-b049-2de723d5dc59",
   "metadata": {},
   "outputs": [],
   "source": [
    "uber[\"Drop timestamp\"] = uber[\"Drop timestamp\"].dt.day_name()"
   ]
  },
  {
   "cell_type": "code",
   "execution_count": 12,
   "id": "324ac3a4-8f84-4a01-999e-4d0553dc4144",
   "metadata": {},
   "outputs": [
    {
     "data": {
      "text/html": [
       "<div>\n",
       "<style scoped>\n",
       "    .dataframe tbody tr th:only-of-type {\n",
       "        vertical-align: middle;\n",
       "    }\n",
       "\n",
       "    .dataframe tbody tr th {\n",
       "        vertical-align: top;\n",
       "    }\n",
       "\n",
       "    .dataframe thead th {\n",
       "        text-align: right;\n",
       "    }\n",
       "</style>\n",
       "<table border=\"1\" class=\"dataframe\">\n",
       "  <thead>\n",
       "    <tr style=\"text-align: right;\">\n",
       "      <th></th>\n",
       "      <th>Request id</th>\n",
       "      <th>Pickup point</th>\n",
       "      <th>Driver id</th>\n",
       "      <th>Status</th>\n",
       "      <th>Request timestamp</th>\n",
       "      <th>Drop timestamp</th>\n",
       "    </tr>\n",
       "  </thead>\n",
       "  <tbody>\n",
       "    <tr>\n",
       "      <th>0</th>\n",
       "      <td>619</td>\n",
       "      <td>Airport</td>\n",
       "      <td>1.0</td>\n",
       "      <td>Trip Completed</td>\n",
       "      <td>Monday</td>\n",
       "      <td>Monday</td>\n",
       "    </tr>\n",
       "    <tr>\n",
       "      <th>1</th>\n",
       "      <td>867</td>\n",
       "      <td>Airport</td>\n",
       "      <td>1.0</td>\n",
       "      <td>Trip Completed</td>\n",
       "      <td>Monday</td>\n",
       "      <td>Monday</td>\n",
       "    </tr>\n",
       "    <tr>\n",
       "      <th>2</th>\n",
       "      <td>1807</td>\n",
       "      <td>City</td>\n",
       "      <td>1.0</td>\n",
       "      <td>Trip Completed</td>\n",
       "      <td>Wednesday</td>\n",
       "      <td>Wednesday</td>\n",
       "    </tr>\n",
       "    <tr>\n",
       "      <th>3</th>\n",
       "      <td>2532</td>\n",
       "      <td>Airport</td>\n",
       "      <td>1.0</td>\n",
       "      <td>Trip Completed</td>\n",
       "      <td>Wednesday</td>\n",
       "      <td>Wednesday</td>\n",
       "    </tr>\n",
       "    <tr>\n",
       "      <th>4</th>\n",
       "      <td>3112</td>\n",
       "      <td>City</td>\n",
       "      <td>1.0</td>\n",
       "      <td>Trip Completed</td>\n",
       "      <td>Wednesday</td>\n",
       "      <td>Wednesday</td>\n",
       "    </tr>\n",
       "  </tbody>\n",
       "</table>\n",
       "</div>"
      ],
      "text/plain": [
       "   Request id Pickup point  Driver id          Status Request timestamp  \\\n",
       "0         619      Airport        1.0  Trip Completed            Monday   \n",
       "1         867      Airport        1.0  Trip Completed            Monday   \n",
       "2        1807         City        1.0  Trip Completed         Wednesday   \n",
       "3        2532      Airport        1.0  Trip Completed         Wednesday   \n",
       "4        3112         City        1.0  Trip Completed         Wednesday   \n",
       "\n",
       "  Drop timestamp  \n",
       "0         Monday  \n",
       "1         Monday  \n",
       "2      Wednesday  \n",
       "3      Wednesday  \n",
       "4      Wednesday  "
      ]
     },
     "execution_count": 12,
     "metadata": {},
     "output_type": "execute_result"
    }
   ],
   "source": [
    "uber.head()"
   ]
  },
  {
   "cell_type": "code",
   "execution_count": null,
   "id": "b25bfaf9-203f-46f6-b4f9-03d0d281b83c",
   "metadata": {},
   "outputs": [],
   "source": []
  },
  {
   "cell_type": "code",
   "execution_count": 13,
   "id": "dec563a1-413f-4d80-9072-a85d4bec740b",
   "metadata": {},
   "outputs": [
    {
     "data": {
      "text/plain": [
       "array(['Monday', 'Wednesday', 'Thursday', 'Friday'], dtype=object)"
      ]
     },
     "execution_count": 13,
     "metadata": {},
     "output_type": "execute_result"
    }
   ],
   "source": [
    "# To know what days do requests take place\n",
    "\n",
    "uber[\"Request timestamp\"].unique()"
   ]
  },
  {
   "cell_type": "code",
   "execution_count": 14,
   "id": "605de1ca-f515-4225-b785-078e6f19fa26",
   "metadata": {},
   "outputs": [
    {
     "data": {
      "text/plain": [
       "array(['Monday', 'Wednesday', 'Thursday', 'Friday', 'Saturday', nan],\n",
       "      dtype=object)"
      ]
     },
     "execution_count": 14,
     "metadata": {},
     "output_type": "execute_result"
    }
   ],
   "source": [
    "# To know what days do requests drop\n",
    "\n",
    "uber[\"Drop timestamp\"].unique()"
   ]
  },
  {
   "cell_type": "code",
   "execution_count": null,
   "id": "796cf6fc-4794-42a5-a40f-d56f2dc0419b",
   "metadata": {},
   "outputs": [],
   "source": []
  },
  {
   "cell_type": "code",
   "execution_count": 15,
   "id": "3f3863ce-86c4-4140-93f0-55b31bf45143",
   "metadata": {},
   "outputs": [
    {
     "data": {
      "text/plain": [
       "Wednesday    2644\n",
       "Friday       1381\n",
       "Monday       1367\n",
       "Thursday     1353\n",
       "Name: Request timestamp, dtype: int64"
      ]
     },
     "execution_count": 15,
     "metadata": {},
     "output_type": "execute_result"
    }
   ],
   "source": [
    "# To know the most requested day\n",
    "\n",
    "uber[\"Request timestamp\"].value_counts()"
   ]
  },
  {
   "cell_type": "code",
   "execution_count": null,
   "id": "54c19323-6cdf-4fad-a5af-e1c880651b71",
   "metadata": {},
   "outputs": [],
   "source": []
  },
  {
   "cell_type": "code",
   "execution_count": 16,
   "id": "7c525c1d-970b-435c-83ab-3ae34da37981",
   "metadata": {},
   "outputs": [
    {
     "data": {
      "text/plain": [
       "City       3507\n",
       "Airport    3238\n",
       "Name: Pickup point, dtype: int64"
      ]
     },
     "execution_count": 16,
     "metadata": {},
     "output_type": "execute_result"
    }
   ],
   "source": [
    "# To know the number of each pickup point inthe data.\n",
    "\n",
    "uber[\"Pickup point\"].value_counts()"
   ]
  },
  {
   "cell_type": "code",
   "execution_count": null,
   "id": "dfbe5926-f8fb-4448-9777-f8fc17815d17",
   "metadata": {},
   "outputs": [],
   "source": []
  },
  {
   "cell_type": "code",
   "execution_count": 17,
   "id": "4761d097-9426-4be8-a242-290d08068522",
   "metadata": {},
   "outputs": [
    {
     "data": {
      "text/plain": [
       "Trip Completed       2831\n",
       "No Cars Available    2650\n",
       "Cancelled            1264\n",
       "Name: Status, dtype: int64"
      ]
     },
     "execution_count": 17,
     "metadata": {},
     "output_type": "execute_result"
    }
   ],
   "source": [
    "# To know the total number of completed, cancelled and No Cars Available trips\n",
    "\n",
    "uber[\"Status\"].value_counts()"
   ]
  },
  {
   "cell_type": "code",
   "execution_count": null,
   "id": "e027ab21-72f5-4936-95b6-79e1b4188b51",
   "metadata": {},
   "outputs": [],
   "source": []
  },
  {
   "cell_type": "code",
   "execution_count": 18,
   "id": "08a7686a-90d2-4419-9232-fd10a9f762d2",
   "metadata": {},
   "outputs": [
    {
     "data": {
      "text/plain": [
       "Pickup point  Status           \n",
       "Airport       No Cars Available    1713\n",
       "              Trip Completed       1327\n",
       "              Cancelled             198\n",
       "City          Trip Completed       1504\n",
       "              Cancelled            1066\n",
       "              No Cars Available     937\n",
       "Name: Status, dtype: int64"
      ]
     },
     "execution_count": 18,
     "metadata": {},
     "output_type": "execute_result"
    }
   ],
   "source": [
    "# To know the Status of trips in each Pick point\n",
    "\n",
    "uber.groupby(\"Pickup point\")[\"Status\"].value_counts()"
   ]
  },
  {
   "cell_type": "code",
   "execution_count": null,
   "id": "4bc36dfa-7b6b-471e-9d37-59812a024af4",
   "metadata": {},
   "outputs": [],
   "source": []
  },
  {
   "cell_type": "code",
   "execution_count": 19,
   "id": "9570390d-0a4a-48e7-bd4a-0b9e15599dbe",
   "metadata": {},
   "outputs": [
    {
     "data": {
      "text/plain": [
       "Wednesday    510\n",
       "Monday       262\n",
       "Thursday     252\n",
       "Friday       240\n",
       "Name: Request timestamp, dtype: int64"
      ]
     },
     "execution_count": 19,
     "metadata": {},
     "output_type": "execute_result"
    }
   ],
   "source": [
    "# To know the most day to cancel a trip\n",
    "\n",
    "uber[uber[\"Status\"]==\"Cancelled\"][\"Request timestamp\"].value_counts()"
   ]
  },
  {
   "cell_type": "code",
   "execution_count": null,
   "id": "4a5ac5f7-e189-4319-a38c-b7cf06cbf23e",
   "metadata": {},
   "outputs": [],
   "source": []
  },
  {
   "cell_type": "code",
   "execution_count": 20,
   "id": "ee3459a3-e2b6-4b1e-8f5e-a9fdd433bf87",
   "metadata": {},
   "outputs": [
    {
     "data": {
      "text/plain": [
       "Wednesday    1139\n",
       "Monday        601\n",
       "Friday        561\n",
       "Thursday      530\n",
       "Name: Request timestamp, dtype: int64"
      ]
     },
     "execution_count": 20,
     "metadata": {},
     "output_type": "execute_result"
    }
   ],
   "source": [
    "# To know the most day to complete a trip\n",
    "\n",
    "uber[uber[\"Status\"]==\"Trip Completed\"][\"Request timestamp\"].value_counts()"
   ]
  },
  {
   "cell_type": "code",
   "execution_count": null,
   "id": "3b5f23ea-7835-4bde-8045-465d6151dc2c",
   "metadata": {},
   "outputs": [],
   "source": []
  },
  {
   "cell_type": "code",
   "execution_count": 21,
   "id": "ee81f28d-28c4-49db-8994-458d8b2e05a8",
   "metadata": {},
   "outputs": [
    {
     "data": {
      "text/plain": [
       "Pickup point  Request timestamp\n",
       "Airport       Wednesday            1347\n",
       "              Monday                661\n",
       "              Friday                629\n",
       "              Thursday              601\n",
       "City          Wednesday            1297\n",
       "              Friday                752\n",
       "              Thursday              752\n",
       "              Monday                706\n",
       "Name: Request timestamp, dtype: int64"
      ]
     },
     "execution_count": 21,
     "metadata": {},
     "output_type": "execute_result"
    }
   ],
   "source": [
    "# To know how many trips are made in every day according to the Pickup point\n",
    "\n",
    "uber.groupby(\"Pickup point\")[\"Request timestamp\"].value_counts()"
   ]
  },
  {
   "cell_type": "code",
   "execution_count": null,
   "id": "01d82fd8-36f7-49a8-a98b-bea488b1d66c",
   "metadata": {},
   "outputs": [],
   "source": []
  },
  {
   "cell_type": "code",
   "execution_count": 22,
   "id": "b39d6d82-9f0e-47a4-a6af-fe3f35752eca",
   "metadata": {},
   "outputs": [
    {
     "data": {
      "text/plain": [
       "Request timestamp  Pickup point\n",
       "Friday             City             752\n",
       "                   Airport          629\n",
       "Monday             City             706\n",
       "                   Airport          661\n",
       "Thursday           City             752\n",
       "                   Airport          601\n",
       "Wednesday          Airport         1347\n",
       "                   City            1297\n",
       "Name: Pickup point, dtype: int64"
      ]
     },
     "execution_count": 22,
     "metadata": {},
     "output_type": "execute_result"
    }
   ],
   "source": [
    "# To know the Pickup points for each day\n",
    "\n",
    "uber.groupby(\"Request timestamp\")[\"Pickup point\"].value_counts()"
   ]
  },
  {
   "cell_type": "code",
   "execution_count": null,
   "id": "2de2c778-2237-4f88-b4ec-25330c53d288",
   "metadata": {},
   "outputs": [],
   "source": []
  }
 ],
 "metadata": {
  "kernelspec": {
   "display_name": "Python 3 (ipykernel)",
   "language": "python",
   "name": "python3"
  },
  "language_info": {
   "codemirror_mode": {
    "name": "ipython",
    "version": 3
   },
   "file_extension": ".py",
   "mimetype": "text/x-python",
   "name": "python",
   "nbconvert_exporter": "python",
   "pygments_lexer": "ipython3",
   "version": "3.9.13"
  }
 },
 "nbformat": 4,
 "nbformat_minor": 5
}
